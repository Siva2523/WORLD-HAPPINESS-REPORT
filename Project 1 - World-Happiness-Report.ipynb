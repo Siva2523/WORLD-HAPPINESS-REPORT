{
 "cells": [
  {
   "cell_type": "code",
   "execution_count": null,
   "id": "9dbf5a54",
   "metadata": {},
   "outputs": [],
   "source": [
    "import numpy as np \n",
    "import pandas as pd\n"
   ]
  },
  {
   "cell_type": "code",
   "execution_count": null,
   "id": "564b1dba",
   "metadata": {},
   "outputs": [],
   "source": [
    "df = pd.read_csv(\"https://raw.githubusercontent.com/dsrscientist/DSData/master/happiness_score_dataset.csv\")"
   ]
  },
  {
   "cell_type": "code",
   "execution_count": null,
   "id": "2c91f9bf",
   "metadata": {},
   "outputs": [],
   "source": [
    "df.head()"
   ]
  },
  {
   "cell_type": "code",
   "execution_count": null,
   "id": "f427f6e1",
   "metadata": {},
   "outputs": [],
   "source": [
    "!pip install bubbly"
   ]
  },
  {
   "cell_type": "code",
   "execution_count": null,
   "id": "d17eb378",
   "metadata": {},
   "outputs": [],
   "source": [
    "import matplotlib.pyplot as plt\n",
    "import seaborn as sns\n",
    "plt.style.use('fivethirtyeight')\n",
    "\n",
    "\n",
    "import plotly.offline as py\n",
    "from plotly.offline import init_notebook_mode, iplot\n",
    "import plotly.graph_objs as go\n",
    "init_notebook_mode(connected = True)\n",
    "from bubbly.bubbly import bubbleplot\n",
    "\n",
    "import os"
   ]
  },
  {
   "cell_type": "code",
   "execution_count": null,
   "id": "e1f5bdf0",
   "metadata": {},
   "outputs": [],
   "source": [
    "df.isnull().sum()"
   ]
  },
  {
   "cell_type": "code",
   "execution_count": null,
   "id": "fc5de63b",
   "metadata": {},
   "outputs": [],
   "source": [
    "plt.rcParams['figure.figsize'] = (20, 15)\n",
    "sns.heatmap(df.corr(), cmap = 'copper', annot = True)\n",
    "\n",
    "plt.show()"
   ]
  },
  {
   "cell_type": "markdown",
   "id": "a025311d",
   "metadata": {},
   "source": [
    "#### In the above Heat Map we can see that Happiness Score is very highly correlated with Economy, Health, and Family Satisfaction and somewhat related with Freedom also but has very low relation with Trust in Government in average case."
   ]
  },
  {
   "cell_type": "markdown",
   "id": "b860be83",
   "metadata": {},
   "source": [
    "## Correlations for Western Europe"
   ]
  },
  {
   "cell_type": "code",
   "execution_count": null,
   "id": "7879ffd4",
   "metadata": {},
   "outputs": [],
   "source": [
    "plt.rcParams['figure.figsize'] = (20, 15)\n",
    "d = df.loc[lambda df: df['Region'] == 'Western Europe']\n",
    "sns.heatmap(d.corr(), cmap = 'Wistia', annot = True)\n",
    "\n",
    "plt.show()"
   ]
  },
  {
   "cell_type": "markdown",
   "id": "7d67e1f6",
   "metadata": {},
   "source": [
    "####   The Heat Map particularly for Europe has one more thing to add apart from Family Satisfaction, Freedom, Economy, Generosity, It is also highly correlated with Trust in Government.\n",
    "\n",
    "The European Region is the Happiest Region so far."
   ]
  },
  {
   "cell_type": "markdown",
   "id": "973ddda9",
   "metadata": {},
   "source": [
    "## Correlations for Eastern Asia"
   ]
  },
  {
   "cell_type": "code",
   "execution_count": null,
   "id": "aa5e00b3",
   "metadata": {},
   "outputs": [],
   "source": [
    "plt.rcParams['figure.figsize'] = (20, 15)\n",
    "d = df.loc[lambda df: df['Region'] == 'Eastern Asia']\n",
    "sns.heatmap(d.corr(), cmap = 'Greys', annot = True)\n",
    "\n",
    "plt.show()"
   ]
  },
  {
   "cell_type": "markdown",
   "id": "2abd2999",
   "metadata": {},
   "source": [
    "#### Here, The situation gets worsened as the Correlation is negative for many important factors such as Economy, Health, Trust in Government which makes the situation very critical. It has Positive correlations only with Freedom, Generosity and Famlily Satisfaction."
   ]
  },
  {
   "cell_type": "markdown",
   "id": "1b7cd18f",
   "metadata": {},
   "source": [
    "## North America"
   ]
  },
  {
   "cell_type": "code",
   "execution_count": null,
   "id": "f69e4088",
   "metadata": {},
   "outputs": [],
   "source": [
    "plt.rcParams['figure.figsize'] = (20, 15)\n",
    "d = df.loc[lambda df : df['Region'] == 'North America']\n",
    "sns.heatmap(d.corr(), cmap = 'pink', annot = True)\n",
    "\n",
    "plt.show()"
   ]
  },
  {
   "cell_type": "markdown",
   "id": "72862f9c",
   "metadata": {},
   "source": [
    "##### Everything is highly correlated to the Happiness in America. Amongst so many countries of the world. Being a very large country also America is still able to keep their people happy. America stands at position number 10 amongst the Happiness Rankings for the World."
   ]
  },
  {
   "cell_type": "markdown",
   "id": "8c175132",
   "metadata": {},
   "source": [
    "## Middle East and Northern Africa"
   ]
  },
  {
   "cell_type": "code",
   "execution_count": null,
   "id": "6cb9dcba",
   "metadata": {},
   "outputs": [],
   "source": [
    "plt.rcParams['figure.figsize'] = (20, 15)\n",
    "d = df.loc[lambda df: df['Region'] == 'Middle East and Northern Africa']\n",
    "\n",
    "sns.heatmap(d.corr(), cmap = 'rainbow', annot = True)\n",
    "\n",
    "plt.show()"
   ]
  },
  {
   "cell_type": "markdown",
   "id": "d1e7c17d",
   "metadata": {},
   "source": [
    "##### The correlations are quite goood with almost all the important factors being highly correlated with Happiness. Family Satisfaction is the most important factor as it is the most important factor for happiness n this region."
   ]
  },
  {
   "cell_type": "markdown",
   "id": "8669a508",
   "metadata": {},
   "source": [
    "## Sub-Saharan Africa"
   ]
  },
  {
   "cell_type": "code",
   "execution_count": null,
   "id": "1716f790",
   "metadata": {},
   "outputs": [],
   "source": [
    "plt.rcParams['figure.figsize'] = (20, 15)\n",
    "d = df.loc[lambda df: df['Region'] == 'Sub-Saharan Africa']\n",
    "sns.heatmap(d.corr(), cmap = 'Blues', annot = True)\n",
    "\n",
    "plt.show()"
   ]
  },
  {
   "cell_type": "markdown",
   "id": "82be97a6",
   "metadata": {},
   "source": [
    "###### The Situations are very bad for Sub-Saharan Region as it is the unhappiest region in the world. The correlations with Happiness Score are very low for features such as Generosity, Family Satisfaction, Freedom etc. Almost all of the features are having less than 0.5 correlation which is very bad."
   ]
  },
  {
   "cell_type": "markdown",
   "id": "1c7c1e05",
   "metadata": {},
   "source": [
    "## Bubble Charts"
   ]
  },
  {
   "cell_type": "code",
   "execution_count": null,
   "id": "e9b616b9",
   "metadata": {},
   "outputs": [],
   "source": [
    "import warnings\n",
    "warnings.filterwarnings('ignore')\n",
    "\n",
    "figure = bubbleplot(dataset = df, x_column = 'Happiness Score', y_column = 'Generosity', \n",
    "    bubble_column = 'Country', size_column = 'Economy (GDP per Capita)', color_column = 'Region', \n",
    "    x_title = \"Happiness Score\", y_title = \"Generosity\", title = 'Happiness vs Generosity vs Economy',\n",
    "    x_logscale = False, scale_bubble = 1, height = 650)\n",
    "\n",
    "py.iplot(figure, config={'scrollzoom': True})"
   ]
  },
  {
   "cell_type": "code",
   "execution_count": null,
   "id": "fbacb772",
   "metadata": {},
   "outputs": [],
   "source": [
    "import warnings\n",
    "warnings.filterwarnings('ignore')\n",
    "\n",
    "figure = bubbleplot(dataset = df, x_column = 'Happiness Score', y_column = 'Trust (Government Corruption)', \n",
    "    bubble_column = 'Country', size_column = 'Economy (GDP per Capita)', color_column = 'Region', \n",
    "    x_title = \"Happiness Score\", y_title = \"Trust\", title = 'Happiness vs Trust vs Economy',\n",
    "    x_logscale = False, scale_bubble = 1, height = 650)\n",
    "\n",
    "py.iplot(figure, config={'scrollzoom': True})"
   ]
  },
  {
   "cell_type": "code",
   "execution_count": null,
   "id": "e2161242",
   "metadata": {},
   "outputs": [],
   "source": [
    "import warnings\n",
    "warnings.filterwarnings('ignore')\n",
    "\n",
    "figure = bubbleplot(dataset = df, x_column = 'Happiness Score', y_column = 'Health (Life Expectancy)', \n",
    "    bubble_column = 'Country', size_column = 'Economy (GDP per Capita)', color_column = 'Region', \n",
    "    x_title = \"Happiness Score\", y_title = \"Health\", title = 'Happiness vs Health vs Economy',\n",
    "    x_logscale = False, scale_bubble = 1, height = 650)\n",
    "\n",
    "py.iplot(figure, config={'scrollzoom': True})\n"
   ]
  },
  {
   "cell_type": "code",
   "execution_count": null,
   "id": "5304e6f1",
   "metadata": {},
   "outputs": [],
   "source": [
    "import warnings\n",
    "warnings.filterwarnings('ignore')\n",
    "\n",
    "figure = bubbleplot(dataset = df, x_column = 'Happiness Score', y_column = 'Family', \n",
    "    bubble_column = 'Country', size_column = 'Economy (GDP per Capita)', color_column = 'Region', \n",
    "    x_title = \"Happiness Score\", y_title = \"Family\", title = 'Happiness vs Family vs Economy',\n",
    "    x_logscale = False, scale_bubble = 1, height = 650)\n",
    "\n",
    "py.iplot(figure, config={'scrollzoom': True})"
   ]
  },
  {
   "cell_type": "markdown",
   "id": "6c73adb5",
   "metadata": {},
   "source": [
    "##### Bubble plot to depict the relation between the Happiness Scores vs Family Satisfaction where size of the bubbles is represented by the Economy and the color of the bubbles is represented by the Different Regions of the World."
   ]
  },
  {
   "cell_type": "markdown",
   "id": "2526ab9c",
   "metadata": {},
   "source": [
    "#### It is Quite Visible that as the Family Satisfaction ratings increases the Happiness Score increases. So, We can say that they have a direct relationship between them.\n",
    "\n",
    "Also, European Countries and Austrelia are the Happiest Regions. After America.\n",
    "\n",
    "There is not even a single country in American Region with low Happiness Index.\n",
    "\n",
    "Asian and African countries suffer with some serious issues, that is why none of the Asian orr African Country stands at a good position in terms of Happiness Index.\n",
    "\n",
    "Some Countries in Middle East are Happy while some are Unhappy."
   ]
  },
  {
   "cell_type": "code",
   "execution_count": null,
   "id": "0f2607c4",
   "metadata": {},
   "outputs": [],
   "source": [
    "import warnings\n",
    "warnings.filterwarnings('ignore')\n",
    "\n",
    "figure = bubbleplot(dataset = df, x_column = 'Happiness Score', y_column = 'Generosity', \n",
    "    bubble_column = 'Country', size_column = 'Economy (GDP per Capita)', color_column = 'Region', \n",
    "    x_title = \"Happiness Score\", y_title = \"Generosity\", title = 'Happiness vs Generosity vs Economy',\n",
    "    x_logscale = False, scale_bubble = 1, height = 650)\n",
    "\n",
    "py.iplot(figure, config={'scrollzoom': True})"
   ]
  },
  {
   "cell_type": "markdown",
   "id": "4a69c7db",
   "metadata": {},
   "source": [
    "##### Bullet Chart to Represent the Range for some of the most Important Attributes given in the data. We have taken Happiness, Economy, Freedom, and Family. for analysis of their range.\n",
    "\n",
    "If the values for the given attributes lie in the Dark Blue Region then it is in the critical region.\n",
    "\n",
    "If the values for the given attributes lie in the light blue region then is is in good condition.\n",
    "\n",
    "If the values for the given attributes lie above or near the diamond then is in the best state or condition.\n",
    "\n",
    "White Regions are depicting the Maxima that could be achieved."
   ]
  },
  {
   "cell_type": "code",
   "execution_count": null,
   "id": "fe7a9f0c",
   "metadata": {},
   "outputs": [],
   "source": [
    "import plotly.figure_factory as ff\n",
    "\n",
    "data = (\n",
    "  {\"label\": \"Happiness\", \"sublabel\":\"score\",\n",
    "   \"range\": [5, 6, 8], \"performance\": [5.5, 6.5], \"point\": [7]},\n",
    "  {\"label\": \"Economy\", \"sublabel\": \"score\", \"range\": [0, 1, 2],\n",
    "   \"performance\": [1, 1.5], \"sublabel\":\"score\",\"point\": [1.5]},\n",
    "  {\"label\": \"Family\",\"sublabel\":\"score\", \"range\": [0, 1, 2],\n",
    "   \"performance\": [1, 1.5],\"sublabel\":\"score\", \"point\": [1.3]},\n",
    "  {\"label\": \"Freedom\",\"sublabel\":\"score\", \"range\": [0, 0.3, 0.6],\n",
    "   \"performance\": [0.3, 0.4],\"sublabel\":\"score\", \"point\": [0.5]},\n",
    "  {\"label\": \"Trust\", \"sublabel\":\"score\",\"range\": [0, 0.2, 0.5],\n",
    "   \"performance\": [0.3, 0.4], \"point\": [0.4]}\n",
    ")\n",
    "\n",
    "fig = ff.create_bullet(\n",
    "    data, titles='label', subtitles='sublabel', markers='point',\n",
    "    measures='performance', ranges='range', orientation='v',\n",
    ")\n",
    "py.iplot(fig, filename='bullet chart from dict')"
   ]
  },
  {
   "cell_type": "markdown",
   "id": "bcc16d7b",
   "metadata": {},
   "source": [
    "##### Bullet Chart to Represent the Range for some of the most Important Attributes given in the data. We have taken Happiness, Economy, Freedom, and Family. for analysis of their range.\n",
    "\n",
    "If the values for the given attributes lie in the Dark Blue Region then it is in the critical region.\n",
    "\n",
    "If the values for the given attributes lie in the light blue region then is is in good condition.\n",
    "\n",
    "If the values for the given attributes lie above or near the diamond then is in the best state or condition.\n",
    "\n",
    "White Regions are depicting the Maxima that could be achieved."
   ]
  },
  {
   "cell_type": "code",
   "execution_count": null,
   "id": "3a78c0a2",
   "metadata": {},
   "outputs": [],
   "source": [
    "df12 = data_df['Region'].value_counts()\n",
    "\n",
    "label_df12 = df12.index\n",
    "size_df12 = df12.values\n",
    "\n",
    "\n",
    "colors = ['aqua', 'gold', 'yellow', 'crimson', 'magenta']\n",
    "\n",
    "trace = go.Pie(\n",
    "         labels = label_df12, values = size_df12, marker = dict(colors = colors), name = '12', hole = 0.3)\n",
    "\n",
    "data = [trace]\n",
    "\n",
    "layout1 = go.Layout(\n",
    "           title = 'Regions')\n",
    "\n",
    "fig = go.Figure(data = data, layout = layout1)\n",
    "py.iplot(fig)"
   ]
  },
  {
   "cell_type": "code",
   "execution_count": null,
   "id": "a3f87a80",
   "metadata": {},
   "outputs": [],
   "source": []
  }
 ],
 "metadata": {
  "kernelspec": {
   "display_name": "Python 3",
   "language": "python",
   "name": "python3"
  },
  "language_info": {
   "codemirror_mode": {
    "name": "ipython",
    "version": 3
   },
   "file_extension": ".py",
   "mimetype": "text/x-python",
   "name": "python",
   "nbconvert_exporter": "python",
   "pygments_lexer": "ipython3",
   "version": "3.8.8"
  }
 },
 "nbformat": 4,
 "nbformat_minor": 5
}
